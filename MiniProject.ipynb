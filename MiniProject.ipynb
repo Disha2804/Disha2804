{
  "nbformat": 4,
  "nbformat_minor": 0,
  "metadata": {
    "colab": {
      "name": "MiniProject.ipynb",
      "provenance": [],
      "authorship_tag": "ABX9TyNQpmrUZV4q44Nxw19owLYt",
      "include_colab_link": true
    },
    "kernelspec": {
      "name": "python3",
      "display_name": "Python 3"
    },
    "language_info": {
      "name": "python"
    }
  },
  "cells": [
    {
      "cell_type": "markdown",
      "metadata": {
        "id": "view-in-github",
        "colab_type": "text"
      },
      "source": [
        "<a href=\"https://colab.research.google.com/github/Disha2804/Disha2804/blob/main/MiniProject.ipynb\" target=\"_parent\"><img src=\"https://colab.research.google.com/assets/colab-badge.svg\" alt=\"Open In Colab\"/></a>"
      ]
    },
    {
      "cell_type": "code",
      "execution_count": 3,
      "metadata": {
        "colab": {
          "base_uri": "https://localhost:8080/"
        },
        "id": "v9SXeLAWu8pu",
        "outputId": "dd23b7df-8059-49b3-bc70-7e2ed95b1986"
      },
      "outputs": [
        {
          "output_type": "stream",
          "name": "stdout",
          "text": [
            "The flower of rose is beautiful.\n",
            "\n",
            "The sentence is positive \n",
            "\n",
            "\n",
            "The weather is lovely today.\n",
            "\n",
            "The sentence is positive \n",
            "\n",
            "\n",
            "I was going to that place.\n",
            "\n",
            "The sentence is neutral \n",
            "\n",
            "\n",
            "My name is John.\n",
            "\n",
            "The sentence is neutral \n",
            "\n",
            "\n",
            "He is so annoying.\n",
            "\n",
            "The sentence is negative \n",
            "\n",
            "\n",
            "This product is nice and have many features.\n",
            "\n",
            "The sentence is positive \n",
            "\n",
            "\n",
            "This is not great.\n",
            "The sentence is negative \n",
            "\n",
            "\n"
          ]
        }
      ],
      "source": [
        "from textblob import TextBlob\n",
        "\n",
        "f = open (\"data.txt\",\"r\")\n",
        "for line in f:\n",
        "  print(line)\n",
        "  obj=TextBlob(line)\n",
        "  sentiment=obj.sentiment.polarity\n",
        "\n",
        "  #if-elif to check sentiment value\n",
        "\n",
        "  if(sentiment<0):\n",
        "    print(\"The sentence is negative \\n\\n\")\n",
        "  elif(sentiment==0):\n",
        "    print(\"The sentence is neutral \\n\\n\")\n",
        "  elif(sentiment>0):\n",
        "    print(\"The sentence is positive \\n\\n\")\n",
        "\n"
      ]
    }
  ]
}